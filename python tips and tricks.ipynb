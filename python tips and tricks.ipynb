{
 "metadata": {
  "name": "",
  "signature": "sha256:3613b3aa0d57040fe49c7fc58964390b1237f458dc89420198a773d797a95651"
 },
 "nbformat": 3,
 "nbformat_minor": 0,
 "worksheets": [
  {
   "cells": [
    {
     "cell_type": "heading",
     "level": 3,
     "metadata": {},
     "source": [
      "1.2 Truthfulness of various objects"
     ]
    },
    {
     "cell_type": "code",
     "collapsed": false,
     "input": [
      "my_object = 'Test' # true example"
     ],
     "language": "python",
     "metadata": {},
     "outputs": [],
     "prompt_number": 1
    },
    {
     "cell_type": "code",
     "collapsed": false,
     "input": [
      "if len(my_object)>0:\n",
      "    print 'my object is not empty'"
     ],
     "language": "python",
     "metadata": {},
     "outputs": [
      {
       "output_type": "stream",
       "stream": "stdout",
       "text": [
        "my object is not empty\n"
       ]
      }
     ],
     "prompt_number": 2
    },
    {
     "cell_type": "code",
     "collapsed": false,
     "input": [
      "if len(my_object):\n",
      "    print 'my object is not empty'"
     ],
     "language": "python",
     "metadata": {},
     "outputs": [
      {
       "output_type": "stream",
       "stream": "stdout",
       "text": [
        "my object is not empty\n"
       ]
      }
     ],
     "prompt_number": 3
    },
    {
     "cell_type": "code",
     "collapsed": false,
     "input": [
      "if my_object!='':\n",
      "    print 'my object is not empty'    "
     ],
     "language": "python",
     "metadata": {},
     "outputs": [
      {
       "output_type": "stream",
       "stream": "stdout",
       "text": [
        "my object is not empty\n"
       ]
      }
     ],
     "prompt_number": 4
    },
    {
     "cell_type": "code",
     "collapsed": false,
     "input": [
      "if my_object:\n",
      "    print 'my object is not empty'    "
     ],
     "language": "python",
     "metadata": {},
     "outputs": [
      {
       "output_type": "stream",
       "stream": "stdout",
       "text": [
        "my object is not empty\n"
       ]
      }
     ],
     "prompt_number": 5
    },
    {
     "cell_type": "heading",
     "level": 3,
     "metadata": {},
     "source": [
      "1.3 Checking if a string contains a substring"
     ]
    },
    {
     "cell_type": "code",
     "collapsed": false,
     "input": [
      "string='Hi there'\n",
      "if 'Hi' in string:\n",
      "    print 'success'"
     ],
     "language": "python",
     "metadata": {},
     "outputs": [
      {
       "output_type": "stream",
       "stream": "stdout",
       "text": [
        "success\n"
       ]
      }
     ],
     "prompt_number": 8
    },
    {
     "cell_type": "heading",
     "level": 3,
     "metadata": {},
     "source": [
      "1.4 Pretty printing a List"
     ]
    },
    {
     "cell_type": "code",
     "collapsed": false,
     "input": [
      "recent_presidents = ['George Bush', 'Bill Clinton', 'George W. Bush']"
     ],
     "language": "python",
     "metadata": {},
     "outputs": [],
     "prompt_number": 9
    },
    {
     "cell_type": "code",
     "collapsed": false,
     "input": [
      "print 'The three the most recent presidents were: %s.' % ', '.join(recent_presidents)"
     ],
     "language": "python",
     "metadata": {},
     "outputs": [
      {
       "output_type": "stream",
       "stream": "stdout",
       "text": [
        "The three the most recent presidents were: George Bush, Bill Clinton, George W. Bush.\n"
       ]
      }
     ],
     "prompt_number": 10
    },
    {
     "cell_type": "heading",
     "level": 3,
     "metadata": {},
     "source": [
      "1.5 Integer vs. Float division"
     ]
    },
    {
     "cell_type": "code",
     "collapsed": false,
     "input": [
      "5/2 # return 2\n",
      "5.0/2 # return 2.5\n",
      "float(5)/2 # return 2.5\n",
      "5/2 # return 2"
     ],
     "language": "python",
     "metadata": {},
     "outputs": [
      {
       "metadata": {},
       "output_type": "pyout",
       "prompt_number": 11,
       "text": [
        "2"
       ]
      }
     ],
     "prompt_number": 11
    },
    {
     "cell_type": "code",
     "collapsed": false,
     "input": [
      "from __future__ import division"
     ],
     "language": "python",
     "metadata": {},
     "outputs": [],
     "prompt_number": 12
    },
    {
     "cell_type": "code",
     "collapsed": false,
     "input": [
      "5/2"
     ],
     "language": "python",
     "metadata": {},
     "outputs": [
      {
       "metadata": {},
       "output_type": "pyout",
       "prompt_number": 13,
       "text": [
        "2.5"
       ]
      }
     ],
     "prompt_number": 13
    },
    {
     "cell_type": "code",
     "collapsed": false,
     "input": [
      "5.0/2"
     ],
     "language": "python",
     "metadata": {},
     "outputs": [
      {
       "metadata": {},
       "output_type": "pyout",
       "prompt_number": 14,
       "text": [
        "2.5"
       ]
      }
     ],
     "prompt_number": 14
    },
    {
     "cell_type": "code",
     "collapsed": false,
     "input": [
      "5//2"
     ],
     "language": "python",
     "metadata": {},
     "outputs": [
      {
       "metadata": {},
       "output_type": "pyout",
       "prompt_number": 15,
       "text": [
        "2"
       ]
      }
     ],
     "prompt_number": 15
    },
    {
     "cell_type": "heading",
     "level": 3,
     "metadata": {},
     "source": [
      "1.6 Lambda functions"
     ]
    },
    {
     "cell_type": "code",
     "collapsed": false,
     "input": [
      "add2 = lambda a,b: a+b"
     ],
     "language": "python",
     "metadata": {},
     "outputs": [],
     "prompt_number": 16
    },
    {
     "cell_type": "code",
     "collapsed": false,
     "input": [
      "squares = map(lambda a: a*a, [1,2,3,4,5])\n",
      "squares"
     ],
     "language": "python",
     "metadata": {},
     "outputs": [
      {
       "metadata": {},
       "output_type": "pyout",
       "prompt_number": 19,
       "text": [
        "[1, 4, 9, 16, 25]"
       ]
      }
     ],
     "prompt_number": 19
    },
    {
     "cell_type": "heading",
     "level": 4,
     "metadata": {},
     "source": [
      "2.4 Checking a Condition on Any or Every List Element"
     ]
    },
    {
     "cell_type": "code",
     "collapsed": false,
     "input": [
      "# checking if any element in a list satisfies a condition (below 10)\n",
      "numbers = [1, 10, 100, 1000, 10000]\n",
      "if[number for number in numbers if number<10]:\n",
      "    print 'at least one element is over 10'"
     ],
     "language": "python",
     "metadata": {},
     "outputs": [
      {
       "output_type": "stream",
       "stream": "stdout",
       "text": [
        "at least one element is over 10\n"
       ]
      }
     ],
     "prompt_number": 3
    },
    {
     "cell_type": "code",
     "collapsed": false,
     "input": [
      "# using any keyword for comparing on condition\n",
      "numbers = [1, 10, 100, 1000, 10000]\n",
      "if any(number <10 for number in numbers):\n",
      "    print 'Success'"
     ],
     "language": "python",
     "metadata": {},
     "outputs": [
      {
       "output_type": "stream",
       "stream": "stdout",
       "text": [
        "Success\n"
       ]
      }
     ],
     "prompt_number": 4
    },
    {
     "cell_type": "markdown",
     "metadata": {},
     "source": [
      "Checking that every element satisfies condition."
     ]
    },
    {
     "cell_type": "code",
     "collapsed": false,
     "input": [
      "# doing it before python 2.5"
     ],
     "language": "python",
     "metadata": {},
     "outputs": [],
     "prompt_number": 5
    },
    {
     "cell_type": "code",
     "collapsed": false,
     "input": [
      "numbers = range(1,10)\n",
      "if len(numbers) == len([number for number in numbers if number<10]):\n",
      "    print 'success'"
     ],
     "language": "python",
     "metadata": {},
     "outputs": [
      {
       "output_type": "stream",
       "stream": "stdout",
       "text": [
        "success\n"
       ]
      }
     ],
     "prompt_number": 11
    },
    {
     "cell_type": "code",
     "collapsed": false,
     "input": [
      "# using all function\n",
      "numbers = range(1,10)\n",
      "if all(number<10 for number in numbers):\n",
      "    print 'Success'"
     ],
     "language": "python",
     "metadata": {},
     "outputs": [
      {
       "output_type": "stream",
       "stream": "stdout",
       "text": [
        "Success\n"
       ]
      }
     ],
     "prompt_number": 12
    },
    {
     "cell_type": "heading",
     "level": 3,
     "metadata": {},
     "source": [
      "2.5 Combining Multiple Lists, Item by Item"
     ]
    },
    {
     "cell_type": "code",
     "collapsed": false,
     "input": [
      "letters = ['a','b','c']\n",
      "numbers = [1,2,3]\n",
      "squares = [1,4,9]\n",
      "\n",
      "zipped_list = zip(letters, numbers, squares)\n",
      "zipped_list"
     ],
     "language": "python",
     "metadata": {},
     "outputs": [
      {
       "metadata": {},
       "output_type": "pyout",
       "prompt_number": 13,
       "text": [
        "[('a', 1, 1), ('b', 2, 4), ('c', 3, 9)]"
       ]
      }
     ],
     "prompt_number": 13
    },
    {
     "cell_type": "markdown",
     "metadata": {},
     "source": [
      "Often you will use this sort of thing as an iterator for a loop, pulling put all three values at once (for letter, number, square in zipped_list)"
     ]
    },
    {
     "cell_type": "heading",
     "level": 3,
     "metadata": {},
     "source": [
      "2.6 A Few More List Operators"
     ]
    },
    {
     "cell_type": "markdown",
     "metadata": {},
     "source": [
      "The following are all built-in functions that can be called on any list or iterable."
     ]
    },
    {
     "cell_type": "markdown",
     "metadata": {},
     "source": [
      "max\n",
      "    Returns the largest element in the list"
     ]
    },
    {
     "cell_type": "markdown",
     "metadata": {},
     "source": [
      "min\n",
      "    Returns the smallest element in the list"
     ]
    },
    {
     "cell_type": "markdown",
     "metadata": {},
     "source": [
      "sum\n",
      "    Return the sum of all elements in the list. Accepts an optional second argument, the value to start with when summing. Defaults to 0."
     ]
    },
    {
     "cell_type": "heading",
     "level": 3,
     "metadata": {},
     "source": [
      "2.7 Advanced Logic With Sets"
     ]
    },
    {
     "cell_type": "markdown",
     "metadata": {},
     "source": [
      "Sets differ from lists in that they enforce uniqueness (they can't contain more than one of the same item) and are unordered. Sets also support a myriad of different **logical operatons**."
     ]
    },
    {
     "cell_type": "markdown",
     "metadata": {},
     "source": [
      "The most common thing i want to do is to make sure my list is unique. This is easy; I just have to convert it to a set and check if the length is the same:"
     ]
    },
    {
     "cell_type": "code",
     "collapsed": false,
     "input": [
      "numbers = [1,2,3,3,4,1]\n",
      "set(numbers)"
     ],
     "language": "python",
     "metadata": {},
     "outputs": [
      {
       "metadata": {},
       "output_type": "pyout",
       "prompt_number": 14,
       "text": [
        "{1, 2, 3, 4}"
       ]
      }
     ],
     "prompt_number": 14
    },
    {
     "cell_type": "code",
     "collapsed": false,
     "input": [
      "if len(numbers)==len(set(numbers)):\n",
      "    print 'list is unique!'\n",
      "# In this case doesn't print anything"
     ],
     "language": "python",
     "metadata": {},
     "outputs": [],
     "prompt_number": 15
    },
    {
     "cell_type": "code",
     "collapsed": false,
     "input": [],
     "language": "python",
     "metadata": {},
     "outputs": []
    }
   ],
   "metadata": {}
  }
 ]
}