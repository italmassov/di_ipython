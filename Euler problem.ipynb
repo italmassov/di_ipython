{
 "metadata": {
  "name": "",
  "signature": "sha256:29a420bc4e645ce504b213bda0229e8ebe6a258b3de23dfb16fd5a29cdd836d4"
 },
 "nbformat": 3,
 "nbformat_minor": 0,
 "worksheets": [
  {
   "cells": [
    {
     "cell_type": "heading",
     "level": 1,
     "metadata": {},
     "source": [
      "The Project Euler Problem"
     ]
    },
    {
     "cell_type": "heading",
     "level": 4,
     "metadata": {},
     "source": [
      "continued"
     ]
    },
    {
     "cell_type": "markdown",
     "metadata": {},
     "source": [
      "**Problem 6.** Find the difference between the sum of squares of the first one hundreed natural numbers and square of the sum."
     ]
    },
    {
     "cell_type": "code",
     "collapsed": false,
     "input": [
      "sum_of_squares = sum([number**2 for number in range(1,11)])\n",
      "square_of_sum = sum([number for number in range(1,11)])**2\n",
      "square_of_sum - sum_of_squares"
     ],
     "language": "python",
     "metadata": {},
     "outputs": [],
     "prompt_number": 2
    },
    {
     "cell_type": "code",
     "collapsed": false,
     "input": [
      "sum_of_squares = sum([number**2 for number in range(1,101)])\n",
      "square_of_sum = sum([number for number in range(1,101)])**2\n",
      "square_of_sum - sum_of_squares"
     ],
     "language": "python",
     "metadata": {},
     "outputs": [
      {
       "metadata": {},
       "output_type": "pyout",
       "prompt_number": 6,
       "text": [
        "25164150"
       ]
      }
     ],
     "prompt_number": 6
    },
    {
     "cell_type": "markdown",
     "metadata": {},
     "source": [
      "Problem 8. Find the thirteen adjacent digits in the 1000-digit number that have the greatest product."
     ]
    },
    {
     "cell_type": "code",
     "collapsed": false,
     "input": [
      "thousand_digits = \"73167176531330624919225119674426574742355349194934\\\n",
      "96983520312774506326239578318016984801869478851843\\\n",
      "85861560789112949495459501737958331952853208805511\\\n",
      "12540698747158523863050715693290963295227443043557\\\n",
      "66896648950445244523161731856403098711121722383113\\\n",
      "62229893423380308135336276614282806444486645238749\\\n",
      "30358907296290491560440772390713810515859307960866\\\n",
      "70172427121883998797908792274921901699720888093776\\\n",
      "65727333001053367881220235421809751254540594752243\\\n",
      "52584907711670556013604839586446706324415722155397\\\n",
      "53697817977846174064955149290862569321978468622482\\\n",
      "83972241375657056057490261407972968652414535100474\\\n",
      "82166370484403199890008895243450658541227588666881\\\n",
      "16427171479924442928230863465674813919123162824586\\\n",
      "17866458359124566529476545682848912883142607690042\\\n",
      "24219022671055626321111109370544217506941658960408\\\n",
      "07198403850962455444362981230987879927244284909188\\\n",
      "84580156166097919133875499200524063689912560717606\\\n",
      "05886116467109405077541002256983155200055935729725\\\n",
      "71636269561882670428252483600823257530420752963450\""
     ],
     "language": "python",
     "metadata": {},
     "outputs": [],
     "prompt_number": 81
    },
    {
     "cell_type": "code",
     "collapsed": false,
     "input": [
      "# loop through adjacent numbers and find their product\n",
      "chains = [thousand_digits[index-13: index] for index in range(13, 1001)]"
     ],
     "language": "python",
     "metadata": {},
     "outputs": [],
     "prompt_number": 85
    },
    {
     "cell_type": "code",
     "collapsed": false,
     "input": [
      "products = []\n",
      "for cur_chain in chains:\n",
      "    cur_list = [int(cur_chain[cur_number]) for cur_number in range(13)]\n",
      "    products.append(reduce(lambda a,b: a*b, cur_list))"
     ],
     "language": "python",
     "metadata": {},
     "outputs": [],
     "prompt_number": 86
    },
    {
     "cell_type": "code",
     "collapsed": false,
     "input": [
      "[(chains[i], value) for i, value in enumerate(products) if value==max(products)]"
     ],
     "language": "python",
     "metadata": {},
     "outputs": [
      {
       "metadata": {},
       "output_type": "pyout",
       "prompt_number": 87,
       "text": [
        "[('5576689664895', 23514624000L)]"
       ]
      }
     ],
     "prompt_number": 87
    },
    {
     "cell_type": "markdown",
     "metadata": {},
     "source": [
      "**Problem 3.** What is the largest prime factor of the number 600851475143?"
     ]
    },
    {
     "cell_type": "code",
     "collapsed": false,
     "input": [
      "def largest_prime_factor(n):\n",
      "    i = 2\n",
      "    while i*i<n:\n",
      "        if n % i:\n",
      "            i+=1\n",
      "        else:\n",
      "            n //=i\n",
      "    return n"
     ],
     "language": "python",
     "metadata": {},
     "outputs": [],
     "prompt_number": 88
    },
    {
     "cell_type": "code",
     "collapsed": false,
     "input": [
      "largest_prime_factor(600851475143)"
     ],
     "language": "python",
     "metadata": {},
     "outputs": [
      {
       "metadata": {},
       "output_type": "pyout",
       "prompt_number": 89,
       "text": [
        "6857L"
       ]
      }
     ],
     "prompt_number": 89
    },
    {
     "cell_type": "markdown",
     "metadata": {},
     "source": [
      "**Problem 4.** Find the largest palindrome made from the product of two 3-digit numbers. "
     ]
    },
    {
     "cell_type": "code",
     "collapsed": false,
     "input": [
      "palindromes = [x*y for x in range(100, 999) for y in range(100, 999) if (len(str(x*y))%2==0) and \n",
      "               (str(x*y)==str(x*y)[::-1])]"
     ],
     "language": "python",
     "metadata": {},
     "outputs": [],
     "prompt_number": 106
    },
    {
     "cell_type": "markdown",
     "metadata": {},
     "source": [
      "**Problem 5.** What is the smallest positive number that is evenly divisible by all of the numbers from 1 to 20?"
     ]
    },
    {
     "cell_type": "code",
     "collapsed": false,
     "input": [
      "max_dig = 20\n",
      "n = max_dig\n",
      "rev_rem = 1\n",
      "while rev_rem>0:\n",
      "    rev_remainders = [digit-(n % digit) for digit in range(1,max_dig+1) if (n % digit)!=0]\n",
      "    if sum(rev_remainders)>0:\n",
      "        rev_rem = max(rev_remainders)\n",
      "    else:\n",
      "         rev_rem = 0\n",
      "    n +=rev_rem"
     ],
     "language": "python",
     "metadata": {},
     "outputs": [],
     "prompt_number": 106
    },
    {
     "cell_type": "code",
     "collapsed": false,
     "input": [
      "n"
     ],
     "language": "python",
     "metadata": {},
     "outputs": [
      {
       "metadata": {},
       "output_type": "pyout",
       "prompt_number": 107,
       "text": [
        "232792560"
       ]
      }
     ],
     "prompt_number": 107
    },
    {
     "cell_type": "code",
     "collapsed": false,
     "input": [
      "print n"
     ],
     "language": "python",
     "metadata": {},
     "outputs": []
    },
    {
     "cell_type": "markdown",
     "metadata": {},
     "source": [
      "**Problem 7.** What is the 10 001st prime?"
     ]
    },
    {
     "cell_type": "code",
     "collapsed": false,
     "input": [
      "primes = [2]\n",
      "target_n = 10001\n",
      "n = 3\n",
      "while len(primes)<target_n:\n",
      "    if all([n % prime for prime in primes])>0:\n",
      "        primes.append(n)\n",
      "    n+=1"
     ],
     "language": "python",
     "metadata": {},
     "outputs": [],
     "prompt_number": 126
    },
    {
     "cell_type": "code",
     "collapsed": false,
     "input": [
      "primes[10000]"
     ],
     "language": "python",
     "metadata": {},
     "outputs": [
      {
       "metadata": {},
       "output_type": "pyout",
       "prompt_number": 129,
       "text": [
        "104743"
       ]
      }
     ],
     "prompt_number": 129
    },
    {
     "cell_type": "markdown",
     "metadata": {},
     "source": [
      "**Problem 9.** There exists exactly one Pythagorean triplet for which a+b+c=100. Find the product abc."
     ]
    },
    {
     "cell_type": "code",
     "collapsed": false,
     "input": [
      "[(a,b,sqrt(a**2+b**2)) for a in range(3,4) for b in range(4,5) if \n",
      " sqrt(a**2+b**2)+a+b==12]"
     ],
     "language": "python",
     "metadata": {},
     "outputs": [
      {
       "metadata": {},
       "output_type": "pyout",
       "prompt_number": 143,
       "text": [
        "[(3, 4, 5.0)]"
       ]
      }
     ],
     "prompt_number": 143
    },
    {
     "cell_type": "code",
     "collapsed": false,
     "input": [
      "triplets = [(a,b,sqrt(a**2+b**2)) for a in range(1,400) \n",
      "            for b in range(1,400) \n",
      "            if sqrt(a**2+b**2)+a+b==1000]"
     ],
     "language": "python",
     "metadata": {},
     "outputs": [],
     "prompt_number": 144
    },
    {
     "cell_type": "code",
     "collapsed": false,
     "input": [
      "triplets"
     ],
     "language": "python",
     "metadata": {},
     "outputs": [
      {
       "metadata": {},
       "output_type": "pyout",
       "prompt_number": 145,
       "text": [
        "[(200, 375, 425.0), (375, 200, 425.0)]"
       ]
      }
     ],
     "prompt_number": 145
    },
    {
     "cell_type": "code",
     "collapsed": false,
     "input": [
      "200*375*425"
     ],
     "language": "python",
     "metadata": {},
     "outputs": [
      {
       "metadata": {},
       "output_type": "pyout",
       "prompt_number": 146,
       "text": [
        "31875000"
       ]
      }
     ],
     "prompt_number": 146
    },
    {
     "cell_type": "markdown",
     "metadata": {},
     "source": [
      "**Problem 10.** Find the sum of all primes below 2 000 000."
     ]
    },
    {
     "cell_type": "code",
     "collapsed": false,
     "input": [
      "primes = [2]"
     ],
     "language": "python",
     "metadata": {},
     "outputs": [
      {
       "ename": "KeyboardInterrupt",
       "evalue": "",
       "output_type": "pyerr",
       "traceback": [
        "\u001b[1;31m---------------------------------------------------------------------------\u001b[0m\n\u001b[1;31mKeyboardInterrupt\u001b[0m                         Traceback (most recent call last)",
        "\u001b[1;32m<ipython-input-149-67877b9aa663>\u001b[0m in \u001b[0;36m<module>\u001b[1;34m()\u001b[0m\n\u001b[0;32m      2\u001b[0m \u001b[0mn\u001b[0m \u001b[1;33m=\u001b[0m \u001b[1;36m3\u001b[0m\u001b[1;33m\u001b[0m\u001b[0m\n\u001b[0;32m      3\u001b[0m \u001b[1;32mwhile\u001b[0m \u001b[0mn\u001b[0m\u001b[1;33m<\u001b[0m\u001b[1;36m2000000\u001b[0m\u001b[1;33m:\u001b[0m\u001b[1;33m\u001b[0m\u001b[0m\n\u001b[1;32m----> 4\u001b[1;33m     \u001b[1;32mif\u001b[0m \u001b[0mall\u001b[0m\u001b[1;33m(\u001b[0m\u001b[1;33m[\u001b[0m\u001b[0mn\u001b[0m \u001b[1;33m%\u001b[0m \u001b[0mprime\u001b[0m \u001b[1;32mfor\u001b[0m \u001b[0mprime\u001b[0m \u001b[1;32min\u001b[0m \u001b[0mprimes\u001b[0m\u001b[1;33m]\u001b[0m\u001b[1;33m)\u001b[0m\u001b[1;33m>\u001b[0m\u001b[1;36m0\u001b[0m\u001b[1;33m:\u001b[0m\u001b[1;33m\u001b[0m\u001b[0m\n\u001b[0m\u001b[0;32m      5\u001b[0m         \u001b[0mprimes\u001b[0m\u001b[1;33m.\u001b[0m\u001b[0mappend\u001b[0m\u001b[1;33m(\u001b[0m\u001b[0mn\u001b[0m\u001b[1;33m)\u001b[0m\u001b[1;33m\u001b[0m\u001b[0m\n\u001b[0;32m      6\u001b[0m     \u001b[0mn\u001b[0m\u001b[1;33m+=\u001b[0m\u001b[1;36m2\u001b[0m\u001b[1;33m\u001b[0m\u001b[0m\n",
        "\u001b[1;31mKeyboardInterrupt\u001b[0m: "
       ]
      }
     ],
     "prompt_number": 149
    },
    {
     "cell_type": "code",
     "collapsed": false,
     "input": [
      "n = 1617067"
     ],
     "language": "python",
     "metadata": {},
     "outputs": [],
     "prompt_number": 151
    },
    {
     "cell_type": "code",
     "collapsed": false,
     "input": [
      "while n<2000000:\n",
      "    if all([n % prime for prime in primes])>0:\n",
      "        primes.append(n)\n",
      "    n+=2"
     ],
     "language": "python",
     "metadata": {},
     "outputs": [],
     "prompt_number": 152
    },
    {
     "cell_type": "code",
     "collapsed": false,
     "input": [
      "sum(primes)"
     ],
     "language": "python",
     "metadata": {},
     "outputs": [
      {
       "metadata": {},
       "output_type": "pyout",
       "prompt_number": 153,
       "text": [
        "1179908154"
       ]
      }
     ],
     "prompt_number": 153
    },
    {
     "cell_type": "markdown",
     "metadata": {},
     "source": [
      "**Problem 76.** How many different ways can one hundreed be written as a sum of at least two positive integers?"
     ]
    },
    {
     "cell_type": "code",
     "collapsed": false,
     "input": [],
     "language": "python",
     "metadata": {},
     "outputs": []
    }
   ],
   "metadata": {}
  }
 ]
}